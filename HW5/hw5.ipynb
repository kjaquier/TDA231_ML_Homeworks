{
 "cells": [
  {
   "cell_type": "markdown",
   "metadata": {},
   "source": [
    "$\\qquad$ $\\qquad$$\\qquad$  **TDA 231 Machine Learning: Homework 5** <br />\n",
    "$\\qquad$ $\\qquad$$\\qquad$ **Goal: Clustering**<br />\n",
    "$\\qquad$ $\\qquad$$\\qquad$                   **Grader: Aristide** <br />\n",
    "$\\qquad$ $\\qquad$$\\qquad$                     **Due Date: 21/5** <br />\n",
    "$\\qquad$ $\\qquad$$\\qquad$                   **Submitted by: Sandra Viknander, 9003012482, danvik@student.chalmers.se ; Kevin Jaquier, 921119T334, jaquier@student.chalmer.se** <br />"
   ]
  },
  {
   "cell_type": "markdown",
   "metadata": {},
   "source": [
    "General guidelines:\n",
    "* Since there is no theoretical part for this assigment, submit this ipynb only (with completed code/results).\n",
    "* All discussion regarding practical problems, along with solutions and plots should be specified here itself. We will not generate the solutions/plots again by running your code.\n",
    "* Your name, personal number and email address should be specified above.\n",
    "* All datasets can be downloaded from the course website.\n",
    "* All plots/tables and other relevant information should be included."
   ]
  },
  {
   "cell_type": "markdown",
   "metadata": {},
   "source": [
    "# Practical problems\n",
    "\n",
    "The follwing code might be useful for this excercise.\n",
    "\n",
    "```python\n",
    "import scipy.io\n",
    "mat = scipy.io.loadmat('hw5_p1a.mat')\n",
    "print (mat.keys())\n",
    "X = mat['X']\n",
    "```\n",
    "\n",
    "## [K-Means Implementation, 20 points]\n",
    "\n",
    "a. Implement the basic (linear) $k$-means algorithm as described in the lecture, using the euclidean distance. Use (uniformly) random points from the data as initialization for the centroids. Terminate the iterative procedure when the the cluster assignments do not change.\n",
    "\n",
    "b. Run your implementation on the matrix $X$ in **hw5_p1a.mat** with $k=2$. Each row of the matrix is an observation, and each column is a feature. Store the cluster assignment both after 2 iterations, and at convergence. Produce a scatter plot of the data with colors indicating the cluster assignments at convergence and highlight points that have changed assignment after the second iteration.\n",
    "\n",
    "c. Implement the kernel $k$-means algorithm as described in the lecture, using the Gaussian RBF-kernel.\n",
    "\n",
    "d. Run the linear $k$-means **and** your kernel $k$-means on **hw5_p1b.mat** with $k=2$. For the Gaussian RBF-kernel, use $\\sigma=0.2$. Produce scatter plots of the data, with color indicating the cluster assignment at convergence, one plot for each of the algorithms."
   ]
  },
  {
   "cell_type": "code",
   "execution_count": 1,
   "metadata": {},
   "outputs": [
    {
     "data": {
      "text/plain": [
       "{'divide': 'warn', 'invalid': 'warn', 'over': 'warn', 'under': 'ignore'}"
      ]
     },
     "execution_count": 1,
     "metadata": {},
     "output_type": "execute_result"
    }
   ],
   "source": [
    "import numpy as np\n",
    "from scipy.spatial import distance_matrix\n",
    "import matplotlib as mpl\n",
    "import matplotlib.pyplot as plt\n",
    "import seaborn as sb\n",
    "import scipy.io\n",
    "from sklearn.datasets import make_classification\n",
    "\n",
    "mpl.style.use('seaborn')\n",
    "np.seterr('raise')"
   ]
  },
  {
   "cell_type": "code",
   "execution_count": null,
   "metadata": {},
   "outputs": [],
   "source": [
    "# Questions a-b\n",
    "\n",
    "def find_newly_assigned_pts(cluster, cluster_iter2, X):\n",
    "    pointsThatChanged = []\n",
    "    for i in range(cluster.shape[0]):\n",
    "        if(cluster[i] != cluster_iter2[i]):\n",
    "            pointsThatChanged.append(X[i,:])\n",
    "    return np.asarray(pointsThatChanged)\n",
    "    \n",
    "\n",
    "def FindNewleyAssignedPoints(cluster, cluster_iter2, X):\n",
    "    pointsThatChanged = []\n",
    "    for i in range(cluster.shape[0]):\n",
    "        if(cluster[i] != cluster_iter2[i]):\n",
    "            pointsThatChanged.append(X[i,:])\n",
    "    return  np.asarray(pointsThatChanged)\n",
    "    \n",
    "\n",
    "def kmeans(X, k):\n",
    "    n = X.shape[0]\n",
    "    i_centroids = np.random.choice(n, size=k, replace=False)\n",
    "    centroids = X[i_centroids]\n",
    "    cluster = -np.ones(n).astype(int)\n",
    "    cluster_diff = np.ones(n).astype(bool)\n",
    "    \n",
    "    i_iteration = 0\n",
    "    \n",
    "    while cluster_diff.any():\n",
    "        # Eucl. dist from each sample (row) to each cluster (col)\n",
    "        dist = distance_matrix(X, centroids, p=2)\n",
    "        \n",
    "        # Index of closest cluster per sample\n",
    "        cluster_prev = cluster\n",
    "        cluster = np.argmin(dist, axis=1)\n",
    "        cluster_diff = cluster != cluster_prev\n",
    "\n",
    "        # Update centroids\n",
    "        for i_cluster in range(k):\n",
    "            z = cluster == i_cluster\n",
    "            centroids[i_cluster,:] = np.mean(X[z,:])\n",
    "            \n",
    "            \n",
    "        i_iteration += 1\n",
    "        if i_iteration == 2:\n",
    "            cluster_iter2 = cluster\n",
    "        if i_iteration > 10**2:\n",
    "            raise Exception('[ABORTED] Infinite loop detected')\n",
    "        \n",
    "    return cluster,cluster_iter2, centroids\n",
    "\n",
    "\n",
    "mat = scipy.io.loadmat('hw5_p1a.mat')\n",
    "X = mat['X']\n",
    "\n",
    "k = 2\n",
    "cluster, cluster_iter2, centroids = kmeans(X, k)\n",
    "pointsThatChanged = find_newly_assigned_pts(cluster, cluster_iter2, X)\n",
    "for c in range(k):\n",
    "    z = cluster == c\n",
    "    plt.scatter(X[z,0], X[z,1], marker='o', edgecolors='none', s=50, alpha=1.0)\n",
    "    plt.scatter(centroids[c,0], centroids[c,1], c='magenta', marker='+', edgecolors='none', s=80)\n",
    "plt.scatter(pointsThatChanged[:,0],pointsThatChanged[:,1], s=80, facecolor='none', edgecolor='k', alpha=1,label='Points that change', zorder=10)\n",
    "\n",
    "plt.axis('equal')\n",
    "plt.show()\n"
   ]
  },
  {
   "cell_type": "code",
   "execution_count": 39,
   "metadata": {
    "collapsed": true
   },
   "outputs": [],
   "source": [
    "\n",
    "def linear_kernel():\n",
    "    \n",
    "    def kernel(X):\n",
    "        N = X.shape[0]\n",
    "        K = np.zeros((N,N))\n",
    "\n",
    "        for (i, j), _ in np.ndenumerate(K):\n",
    "            K[i, j] = np.dot(X[i,:], X[j,:])\n",
    "\n",
    "        return K\n",
    "    \n",
    "    return kernel\n",
    "\n",
    "\n",
    "def rbf_kernel(beta):\n",
    "    \n",
    "    linear = linear_kernel()\n",
    "    \n",
    "    def kernel(X):\n",
    "        return np.exp(-beta * linear(X))\n",
    "    \n",
    "    return kernel\n",
    "\n",
    "\n",
    "def kernel_kmeans(X, n_clusters, kernel=linear_kernel(), max_iterations=15):\n",
    "    n_samples = X.shape[0]\n",
    "    cluster = -np.zeros(n_samples).astype(int)  # (n_samples, )\n",
    "    cluster = np.random.choice(n_clusters, size=n_samples, replace=True)\n",
    "    cluster_diff = np.ones(n_samples).astype(bool)\n",
    "    \n",
    "    i_iteration = 0\n",
    "    \n",
    "    while cluster_diff.sum() > 0:\n",
    "        Z = np.array([cluster == i for i in range(n_clusters)]).astype(int)  # (n_clusters, n_samples)\n",
    "        N = np.sum(Z, axis=1)\n",
    "        K = kernel(X)\n",
    "        \n",
    "        N = np.sum(Z, axis=1)\n",
    "        # We only use N for division where the numerator will be 0 if N[k] == 0\n",
    "        # So we can just replace 0s with 1s to avoid division by 0\n",
    "        N[N == 0] = 1\n",
    "        N2 = N**2\n",
    "        dist = np.zeros((n_samples, n_clusters))\n",
    "        for k in range(n_clusters):\n",
    "            \n",
    "            D2 = np.array([K[m,l]*Z[k,m]*Z[k,l] for m in range(n_samples) for l in range(n_samples)])\n",
    "            d2 = np.sum(D2) / N2[k] if N2[k] else 0\n",
    "            \n",
    "            for n in range(n_samples):\n",
    "                D1 = np.array([K[n,k]*Z[k,m] for m in range(n_samples)])\n",
    "                d1 = 2 * np.sum(D1) / N[k] if N[k] else 0\n",
    "                dist[n,k] = K[n,n] - d1 + d2\n",
    "                \n",
    "        # Index of closest cluster per sample\n",
    "        cluster_prev = cluster\n",
    "        cluster = np.argmin(dist, axis=1)\n",
    "        cluster_diff = cluster != cluster_prev\n",
    "        print(np.sum(cluster_diff), \"assignments changed\")\n",
    "            \n",
    "        i_iteration += 1\n",
    "        if i_iteration > max_iterations:\n",
    "            print('Warning: aborted, took too long')\n",
    "            break\n",
    "        \n",
    "    return cluster\n",
    "\n"
   ]
  },
  {
   "cell_type": "code",
   "execution_count": 40,
   "metadata": {},
   "outputs": [
    {
     "name": "stdout",
     "output_type": "stream",
     "text": [
      "110 assignments changed\n",
      "8 assignments changed\n",
      "8 assignments changed\n",
      "8 assignments changed\n",
      "8 assignments changed\n",
      "8 assignments changed\n",
      "8 assignments changed\n",
      "8 assignments changed\n",
      "8 assignments changed\n",
      "8 assignments changed\n",
      "8 assignments changed\n",
      "8 assignments changed\n",
      "8 assignments changed\n",
      "8 assignments changed\n",
      "8 assignments changed\n",
      "8 assignments changed\n",
      "Warning: aborted, took too long\n"
     ]
    },
    {
     "data": {
      "image/png": "[encoded data removed]",
      "text/plain": [
       "<matplotlib.figure.Figure at 0x16567968fd0>"
      ]
     },
     "metadata": {},
     "output_type": "display_data"
    }
   ],
   "source": [
    "\n",
    "mat = scipy.io.loadmat('hw5_p1b.mat') # TODO : use right dataset\n",
    "X = mat['X']\n",
    "\n",
    "X2, y = make_classification(\n",
    "            n_samples=10,\n",
    "            n_features=2,\n",
    "            n_redundant=0,\n",
    "            n_repeated=0,\n",
    "            n_classes=2,\n",
    "            flip_y=0.1,\n",
    "            #class_sep=0.001,\n",
    "            n_clusters_per_class=1)\n",
    "            #weights=[w])\n",
    "\n",
    "##\n",
    "\n",
    "k = 2\n",
    "cluster = kernel_kmeans(X, k, kernel=rbf_kernel(2))\n",
    "\n",
    "for c in range(k):\n",
    "    z = cluster == c\n",
    "    plt.scatter(X[z,0], X[z,1], marker='o', edgecolors='none', s=50, alpha=1.0)\n",
    "\n",
    "plt.axis('equal')\n",
    "plt.show()\n"
   ]
  },
  {
   "cell_type": "code",
   "execution_count": null,
   "metadata": {
    "collapsed": true
   },
   "outputs": [],
   "source": []
  }
 ],
 "metadata": {
  "kernelspec": {
   "display_name": "Python 3",
   "language": "python",
   "name": "python3"
  },
  "language_info": {
   "codemirror_mode": {
    "name": "ipython",
    "version": 3
   },
   "file_extension": ".py",
   "mimetype": "text/x-python",
   "name": "python",
   "nbconvert_exporter": "python",
   "pygments_lexer": "ipython3",
   "version": "3.6.1"
  }
 },
 "nbformat": 4,
 "nbformat_minor": 2
}
