{
 "cells": [
  {
   "cell_type": "markdown",
   "metadata": {},
   "source": [
    "$\\qquad$ $\\qquad$$\\qquad$  **TDA 231 Machine Learning: Homework 5** <br />\n",
    "$\\qquad$ $\\qquad$$\\qquad$ **Goal: Clustering**<br />\n",
    "$\\qquad$ $\\qquad$$\\qquad$                   **Grader: Aristide** <br />\n",
    "$\\qquad$ $\\qquad$$\\qquad$                     **Due Date: 21/5** <br />\n",
    "$\\qquad$ $\\qquad$$\\qquad$                   **Submitted by: Sandra Viknander, 9003012482, danvik@student.chalmers.se ; Kevin Jaquier, 921119T334, jaquier@student.chalmer.se** <br />"
   ]
  },
  {
   "cell_type": "markdown",
   "metadata": {},
   "source": [
    "General guidelines:\n",
    "* Since there is no theoretical part for this assigment, submit this ipynb only (with completed code/results).\n",
    "* All discussion regarding practical problems, along with solutions and plots should be specified here itself. We will not generate the solutions/plots again by running your code.\n",
    "* Your name, personal number and email address should be specified above.\n",
    "* All datasets can be downloaded from the course website.\n",
    "* All plots/tables and other relevant information should be included."
   ]
  },
  {
   "cell_type": "markdown",
   "metadata": {},
   "source": [
    "# Practical problems\n",
    "\n",
    "The follwing code might be useful for this excercise.\n",
    "\n",
    "```python\n",
    "import scipy.io\n",
    "mat = scipy.io.loadmat('hw5_p1a.mat')\n",
    "print (mat.keys())\n",
    "X = mat['X']\n",
    "```\n",
    "\n",
    "## [K-Means Implementation, 20 points]\n",
    "\n",
    "a. Implement the basic (linear) $k$-means algorithm as described in the lecture, using the euclidean distance. Use (uniformly) random points from the data as initialization for the centroids. Terminate the iterative procedure when the the cluster assignments do not change.\n",
    "\n",
    "b. Run your implementation on the matrix $X$ in **hw5_p1a.mat** with $k=2$. Each row of the matrix is an observation, and each column is a feature. Store the cluster assignment both after 2 iterations, and at convergence. Produce a scatter plot of the data with colors indicating the cluster assignments at convergence and highlight points that have changed assignment after the second iteration.\n",
    "\n",
    "c. Implement the kernel $k$-means algorithm as described in the lecture, using the Gaussian RBF-kernel.\n",
    "\n",
    "d. Run the linear $k$-means **and** your kernel $k$-means on **hw5_p1b.mat** with $k=2$. For the Gaussian RBF-kernel, use $\\sigma=0.2$. Produce scatter plots of the data, with color indicating the cluster assignment at convergence, one plot for each of the algorithms."
   ]
  },
  {
   "cell_type": "code",
   "execution_count": 8,
   "metadata": {},
   "outputs": [
    {
     "name": "stdout",
     "output_type": "stream",
     "text": [
      "."
     ]
    },
    {
     "data": {
      "image/png": "[encoded data removed]",
      "text/plain": [
       "<matplotlib.figure.Figure at 0x188b5e0bac8>"
      ]
     },
     "metadata": {},
     "output_type": "display_data"
    }
   ],
   "source": [
    "import numpy as np\n",
    "from scipy.spatial import distance_matrix\n",
    "import matplotlib as mpl\n",
    "import matplotlib.pyplot as plt\n",
    "import seaborn as sb\n",
    "import scipy.io\n",
    "from sklearn.datasets import make_classification\n",
    "\n",
    "mpl.style.use('seaborn')\n",
    "np.seterr('raise')\n",
    "\n",
    "\n",
    "def linear_kernel(X):\n",
    "    N = X.shape[0]\n",
    "    K = np.zeros((N,N))\n",
    "    \n",
    "    for (i, j), _ in np.ndenumerate(K):\n",
    "        K[i, j] = np.dot(X[i,:], X[j,:])\n",
    "        \n",
    "    return K\n",
    "\n",
    "def Gaussian_kernel(X,gamma):\n",
    "    N = X.shape[0]\n",
    "    K = np.zeros((N,N))\n",
    "    \n",
    "    for (i, j), _ in np.ndenumerate(K):\n",
    "        K[i, j] = np.exp(-gamma * np.dot(X[i,:], X[j,:]))\n",
    "        \n",
    "    return K\n",
    "\n",
    "def kernel_kmeans(X, n_clusters, kernel=linear_kernel):\n",
    "    n_samples = X.shape[0]\n",
    "    i_centroids = np.random.choice(n_samples, size=n_clusters, replace=False)\n",
    "    centroids = X[i_centroids]\n",
    "    cluster = -np.zeros(n_samples).astype(int)  # (n_samples, )\n",
    "    cluster_diff = np.ones(n_samples).astype(bool)\n",
    "    \n",
    "    i_iteration = 0\n",
    "    \n",
    "    while cluster_diff.any():\n",
    "        print(\".\", end=\"\")\n",
    "        Z = np.array([cluster == i for i in range(n_clusters)]).astype(int)  # (n_clusters, n_samples)\n",
    "        N = np.sum(Z, axis=1)\n",
    "        N2 = N**2\n",
    "        \n",
    "        K = Gaussian_kernel(X,0.2)\n",
    "        \n",
    "        dist = np.zeros((n_samples, n_clusters))\n",
    "        for k in range(n_clusters):\n",
    "            for n in range(n_samples):\n",
    "                D1 = np.array([K[n,k]*Z[k,m] for m in range(n_samples)])\n",
    "                D2 = np.array([K[m,l]*Z[k,m]*Z[k,l] for m in range(n_samples) for l in range(n_samples)])\n",
    "                \n",
    "                d1 = 2 * np.sum(D1) / N[k] if N[k] else 0\n",
    "                d2 = np.sum(D2) / N2[k] if N2[k] else 0\n",
    "                \n",
    "                dist[n,k] = K[n,n] - d1 + d2\n",
    "            \n",
    "            # attempt at vectorizing\n",
    "            #dist_inter = np.sum([K[n,:] * Z[:,k] for n in range(n_samples)])\n",
    "            #dist_all = np.sum(np.tri(Z @ Z.T) * np.tri(K))\n",
    "            #dist[:,k] = diag(K) - 2 * dist_inter / N[k] + dist_all / N2[k]\n",
    "\n",
    "        # Index of closest cluster per sample\n",
    "        cluster_prev = cluster\n",
    "        cluster = np.argmin(dist, axis=1)\n",
    "        cluster_diff = cluster != cluster_prev\n",
    "            \n",
    "        i_iteration += 1\n",
    "        if i_iteration > 10**2:\n",
    "            raise Exception('[ABORTED] Infinite loop detected')\n",
    "        \n",
    "    return cluster\n",
    "\n",
    "\n",
    "mat = scipy.io.loadmat('hw5_p1b.mat')\n",
    "X = mat['X']\n",
    "\n",
    "X, y = make_classification(\n",
    "            n_samples=100,\n",
    "            n_features=2,\n",
    "            n_redundant=0,\n",
    "            n_repeated=0,\n",
    "            n_classes=2,\n",
    "            flip_y=0.1,\n",
    "            #class_sep=0.001,\n",
    "            n_clusters_per_class=1)\n",
    "            #weights=[w])\n",
    "\n",
    "##\n",
    "\n",
    "k = 2\n",
    "cluster = kernel_kmeans(X, k)\n",
    "\n",
    "for c in range(k):\n",
    "    z = cluster == c\n",
    "    plt.scatter(X[z,0], X[z,1], marker='o', edgecolors='none', s=50, alpha=1.0)\n",
    "    #plt.scatter(centroids[c,0], centroids[c,1], c='magenta', marker='+', edgecolors='none', s=80)\n",
    "\n",
    "plt.axis('equal')\n",
    "plt.show()\n"
   ]
  },
  {
   "cell_type": "code",
   "execution_count": 7,
   "metadata": {},
   "outputs": [
    {
     "name": "stdout",
     "output_type": "stream",
     "text": [
      "[[9 5 6]\n",
      " [0 0 5]\n",
      " [8 3 9]]\n",
      "[[1 4 6]\n",
      " [7 1 8]\n",
      " [8 2 9]]\n"
     ]
    }
   ],
   "source": [
    "a=np.random.randint(10, size=(3,3))\n",
    "b=np.random.randint(10, size=(3,3))\n",
    "print(a)\n",
    "print(b)"
   ]
  },
  {
   "cell_type": "code",
   "execution_count": null,
   "metadata": {},
   "outputs": [],
   "source": [
    "a**2"
   ]
  },
  {
   "cell_type": "code",
   "execution_count": null,
   "metadata": {},
   "outputs": [],
   "source": [
    "b[1,:].T @ a[1,:]"
   ]
  },
  {
   "cell_type": "code",
   "execution_count": null,
   "metadata": {
    "collapsed": true
   },
   "outputs": [],
   "source": []
  }
 ],
 "metadata": {
  "kernelspec": {
   "display_name": "Python 3",
   "language": "python",
   "name": "python3"
  },
  "language_info": {
   "codemirror_mode": {
    "name": "ipython",
    "version": 3
   },
   "file_extension": ".py",
   "mimetype": "text/x-python",
   "name": "python",
   "nbconvert_exporter": "python",
   "pygments_lexer": "ipython3",
   "version": "3.6.4"
  }
 },
 "nbformat": 4,
 "nbformat_minor": 2
}
